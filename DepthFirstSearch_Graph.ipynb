{
  "nbformat": 4,
  "nbformat_minor": 0,
  "metadata": {
    "colab": {
      "name": "DepthFirstSearch_Graph.ipynb",
      "provenance": [],
      "collapsed_sections": [],
      "authorship_tag": "ABX9TyPsoLj/5p8lXVtVj+IVGwvS"
    },
    "kernelspec": {
      "name": "python3",
      "display_name": "Python 3"
    }
  },
  "cells": [
    {
      "cell_type": "code",
      "metadata": {
        "id": "XMcexcgc2VKa",
        "colab_type": "code",
        "colab": {
          "base_uri": "https://localhost:8080/",
          "height": 51
        },
        "outputId": "ba7121e9-9d60-4c0b-fc69-a5168bedada6"
      },
      "source": [
        "from collections import defaultdict \n",
        "class Graph: \n",
        "  \n",
        "    # Defining our Constructor.\n",
        "    def __init__(self): \n",
        "  \n",
        "        # creating a dictionary to store our graph.\n",
        "        self.graph = defaultdict(list) \n",
        "  \n",
        "    # defining an function to add an edge to our graph.\n",
        "    def addEdge(self, u, v): \n",
        "        self.graph[u].append(v) \n",
        "        #print(self.graph)\n",
        "  \n",
        "    # A utility function for the main DepthFirstSearch Function which will act as an recursive function. \n",
        "    def DFSUtility(self, v, visited): \n",
        "  \n",
        "        # This function marks the current node as visited and then prints it. \n",
        "        \n",
        "        visited[v] = True\n",
        "        print(v, end = ' ') \n",
        "  \n",
        "        # Creating a Recursive function for visiting all the vertices.\n",
        "        for i in self.graph[v]: \n",
        "            if visited[i] == False: \n",
        "                self.DFSUtility(i, visited) \n",
        "  \n",
        "    # Defining a  function to do the DFS traversal. It will use a recursive utility function later for the final output.\n",
        "    \n",
        "    def DepthFirstSearch(self, v): \n",
        "  \n",
        "        # Initializing all the vertices as not visited. \n",
        "        visited = [False] * (max(self.graph)+1) \n",
        "  \n",
        "        # Calling the recursive utility function.  \n",
        "        self.DFSUtility(v, visited) \n",
        "  \n",
        "  \n",
        "# Defining our needed graph.\n",
        "g = Graph() \n",
        "g.addEdge(0, 1) \n",
        "g.addEdge(0, 2) \n",
        "g.addEdge(1, 3)\n",
        "g.addEdge(1, 4) \n",
        "g.addEdge(2, 4) \n",
        "g.addEdge(3, 4) \n",
        "g.addEdge(3, 5)\n",
        "g.addEdge(4, 5) \n",
        "g.addEdge(5, 5)\n",
        "print (\"Following is Depth First Traversal\")\n",
        "g.DepthFirstSearch(0) \n"
      ],
      "execution_count": 3,
      "outputs": [
        {
          "output_type": "stream",
          "text": [
            "Following is Depth First Traversal\n",
            "0 1 3 4 5 2 "
          ],
          "name": "stdout"
        }
      ]
    },
    {
      "cell_type": "code",
      "metadata": {
        "id": "fIsUovyz_2wj",
        "colab_type": "code",
        "colab": {}
      },
      "source": [
        ""
      ],
      "execution_count": null,
      "outputs": []
    }
  ]
}