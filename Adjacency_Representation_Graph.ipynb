{
  "nbformat": 4,
  "nbformat_minor": 0,
  "metadata": {
    "colab": {
      "name": "Adjacency Representation Graph",
      "provenance": [],
      "collapsed_sections": [],
      "authorship_tag": "ABX9TyPFArhid3KU3tzZHQW08NGa"
    },
    "kernelspec": {
      "name": "python3",
      "display_name": "Python 3"
    }
  },
  "cells": [
    {
      "cell_type": "code",
      "metadata": {
        "id": "AEfCahVJj3GA",
        "colab_type": "code",
        "colab": {
          "base_uri": "https://localhost:8080/",
          "height": 510
        },
        "outputId": "2935c01b-3abb-47c5-cf8a-abe1f7099852"
      },
      "source": [
        "# Defining a AdjNode Class to create a Node Object which contains vertex value and the link to the next node.\n",
        "class AdjNode: \n",
        "    def __init__(self, data): \n",
        "        self.vertex = data \n",
        "        self.next = None\n",
        "  \n",
        "  \n",
        "# A class to represent a graph.  \n",
        "class Graph: \n",
        "    def __init__(self, vertices): \n",
        "        self.V = vertices \n",
        "        self.graph = [None] * self.V # Size of the array will be the no. of the  vertices \"V\" .\n",
        "  \n",
        "    # Function to add an edge in an undirected graph \n",
        "    def add_edge(self, src, dest): \n",
        "        # Adding the node to the source node \n",
        "        node = AdjNode(dest) \n",
        "        print(\"node\",node.next)\n",
        "        node.next = self.graph[src] \n",
        "        self.graph[src] = node \n",
        "        print(\"self graph[src]\", self.graph[src].next)\n",
        "  \n",
        "        # Adding the source node to the destination as \n",
        "        # it is the undirected graph which implies that 2 lists are created storing both end infos bcoz we dont know 2->3 or \n",
        "        node = AdjNode(src) \n",
        "        node.next = self.graph[dest] #here the next can be assumed as n.next = x ==> x->n\n",
        "        self.graph[dest] = node \n",
        "  \n",
        "    # Function to print the graph \n",
        "    def print_graph(self): \n",
        "        for i in range(self.V): \n",
        "            print(\"Adjacency list of vertex {}\\n head\".format(i), end=\"\") \n",
        "            temp = self.graph[i] \n",
        "            while temp: \n",
        "                print(\" -> {}\".format(temp.vertex), end=\"\") \n",
        "                temp = temp.next\n",
        "            print(\" \\n\") \n",
        "  \n",
        "  \n",
        "# Driver program to the above graph class \n",
        "if __name__ == \"__main__\": \n",
        "    V = 5\n",
        "    graph = Graph(V) \n",
        "    graph.add_edge(0, 1) \n",
        "    graph.add_edge(0, 4) \n",
        "    graph.add_edge(1, 2) \n",
        "    graph.add_edge(1, 3) \n",
        "    graph.add_edge(1, 4) \n",
        "    graph.add_edge(2, 3) \n",
        "    graph.add_edge(3, 4) \n",
        "  \n",
        "    graph.print_graph() "
      ],
      "execution_count": null,
      "outputs": [
        {
          "output_type": "stream",
          "text": [
            "node None\n",
            "self graph[src] None\n",
            "node None\n",
            "self graph[src] <__main__.AdjNode object at 0x7fa08639b160>\n",
            "node None\n",
            "self graph[src] None\n",
            "node None\n",
            "self graph[src] <__main__.AdjNode object at 0x7fa08634bb70>\n",
            "node None\n",
            "self graph[src] <__main__.AdjNode object at 0x7fa08637c4e0>\n",
            "node None\n",
            "self graph[src] None\n",
            "node None\n",
            "self graph[src] None\n",
            "Adjacency list of vertex 0\n",
            " head -> 4 -> 1 \n",
            "\n",
            "Adjacency list of vertex 1\n",
            " head -> 4 -> 3 -> 2 \n",
            "\n",
            "Adjacency list of vertex 2\n",
            " head -> 3 \n",
            "\n",
            "Adjacency list of vertex 3\n",
            " head -> 4 \n",
            "\n",
            "Adjacency list of vertex 4\n",
            " head \n",
            "\n"
          ],
          "name": "stdout"
        }
      ]
    },
    {
      "cell_type": "code",
      "metadata": {
        "id": "EBUShzrhj51n",
        "colab_type": "code",
        "colab": {}
      },
      "source": [
        ""
      ],
      "execution_count": null,
      "outputs": []
    }
  ]
}