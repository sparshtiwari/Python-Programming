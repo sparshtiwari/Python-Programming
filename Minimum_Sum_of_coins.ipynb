{
  "nbformat": 4,
  "nbformat_minor": 0,
  "metadata": {
    "colab": {
      "name": "Minimum_Sum_of_coins.ipynb",
      "provenance": [],
      "collapsed_sections": [],
      "authorship_tag": "ABX9TyOmXfV2p3PrPyiUgDXBNiCt"
    },
    "kernelspec": {
      "name": "python3",
      "display_name": "Python 3"
    }
  },
  "cells": [
    {
      "cell_type": "code",
      "metadata": {
        "id": "rBXowHWk1pMG",
        "colab_type": "code",
        "colab": {}
      },
      "source": [
        "import math"
      ],
      "execution_count": null,
      "outputs": []
    },
    {
      "cell_type": "code",
      "metadata": {
        "id": "iDSO8ZzN05UZ",
        "colab_type": "code",
        "colab": {}
      },
      "source": [
        "def min_sum(coins,sum):\n",
        "  c = coins\n",
        "  #sum\n",
        "  value = {}\n",
        "  ready = {}\n",
        "  \n",
        "  def solve(x):\n",
        "    if x<0:\n",
        "      return math.inf\n",
        "    if x==0:\n",
        "      return 0\n",
        "    if x in ready:\n",
        "      return value[x]\n",
        "    best = math.inf\n",
        "    for i in (c):\n",
        "      best = min(best,solve(x-int(i))+1)\n",
        "      #print(\"Best is \", best)\n",
        "\n",
        "    value[x] = best\n",
        "    ready[x] = True\n",
        "    return best\n",
        "\n",
        "  return solve(int(sum))"
      ],
      "execution_count": null,
      "outputs": []
    },
    {
      "cell_type": "code",
      "metadata": {
        "id": "x7q5k4IG2Gxi",
        "colab_type": "code",
        "colab": {
          "base_uri": "https://localhost:8080/",
          "height": 102
        },
        "outputId": "4da17909-713d-48a0-a2c2-be611d1b8c3f"
      },
      "source": [
        "print(\"Enter denominations of coins\")\n",
        "c=input().split()\n",
        "print(\"Enter the required sum\")\n",
        "s=input()\n",
        "#solve(x)\n",
        "p=min_sum(c,s)\n",
        "print(p)"
      ],
      "execution_count": null,
      "outputs": [
        {
          "output_type": "stream",
          "text": [
            "Enter denominations of coins\n",
            "1 3 4\n",
            "Enter the required sum\n",
            "25\n",
            "7\n"
          ],
          "name": "stdout"
        }
      ]
    }
  ]
}