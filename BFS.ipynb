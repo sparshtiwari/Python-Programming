{
  "nbformat": 4,
  "nbformat_minor": 0,
  "metadata": {
    "colab": {
      "name": "BFS.ipynb",
      "provenance": [],
      "collapsed_sections": [],
      "authorship_tag": "ABX9TyPL+XxFM+pd2e6t1TEWZOUy"
    },
    "kernelspec": {
      "name": "python3",
      "display_name": "Python 3"
    }
  },
  "cells": [
    {
      "cell_type": "code",
      "metadata": {
        "id": "gTcrLWBgL3aL",
        "colab_type": "code",
        "colab": {}
      },
      "source": [
        "from collections import defaultdict\n",
        "class Graph:\n",
        "  #constructor\n",
        "  def __init__(self):\n",
        "    self.graph = defaultdict(list)\n",
        "\n",
        "  def addEdge(self,u,v):\n",
        "    self.graph[u].append(v)\n",
        "  \n",
        "  def BreadthFirstSearch(self,s):\n",
        "    visited_nodes = [False] * len(self.graph) #initializing all values as false \n",
        "    #so that whenever it visits a node it will be turned to true and will become\n",
        "    #our flag checker.\n",
        "\n",
        "    queue = []\n",
        "    #what queue here does that makes this code differ from dfs is that it gets\n",
        "    # us an list of traversal in the direction which we want and since \n",
        "    #Q is FIFO popping it does the needful.\n",
        "\n",
        "    queue.append(s)\n",
        "    visited_nodes[s] = True\n",
        "\n",
        "    while queue:\n",
        "      s = queue.pop(0)\n",
        "      print(s)\n",
        "\n",
        "      for i in self.graph[s]:\n",
        "        if visited_nodes[i] == False:\n",
        "          queue.append(i)\n",
        "          visited_nodes[i]=True"
      ],
      "execution_count": null,
      "outputs": []
    },
    {
      "cell_type": "code",
      "metadata": {
        "id": "OxA3tQIRCt2B",
        "colab_type": "code",
        "colab": {
          "base_uri": "https://localhost:8080/",
          "height": 136
        },
        "outputId": "66079b7d-f9c3-4449-cc94-219de78e67f4"
      },
      "source": [
        "g = Graph() \n",
        "g.addEdge(0, 1) \n",
        "g.addEdge(0, 2) \n",
        "g.addEdge(1, 3)\n",
        "g.addEdge(1, 4) \n",
        "g.addEdge(2, 4) \n",
        "g.addEdge(3, 4) \n",
        "g.addEdge(3, 5)\n",
        "g.addEdge(4, 5) \n",
        "g.addEdge(5, 5)\n",
        "print (\"Following is Breadth First Traversal\"\n",
        "\t\t\t\t\" (starting from vertex 2)\") \n",
        "g.BreadthFirstSearch(0) \n"
      ],
      "execution_count": null,
      "outputs": [
        {
          "output_type": "stream",
          "text": [
            "Following is Breadth First Traversal (starting from vertex 2)\n",
            "0\n",
            "1\n",
            "2\n",
            "3\n",
            "4\n",
            "5\n"
          ],
          "name": "stdout"
        }
      ]
    },
    {
      "cell_type": "code",
      "metadata": {
        "id": "T_3_qvzZCu0x",
        "colab_type": "code",
        "colab": {}
      },
      "source": [
        ""
      ],
      "execution_count": null,
      "outputs": []
    }
  ]
}